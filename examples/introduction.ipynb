{
 "cells": [
  {
   "cell_type": "markdown",
   "metadata": {},
   "source": [
    "# ipyspin"
   ]
  },
  {
   "cell_type": "code",
   "execution_count": null,
   "metadata": {},
   "outputs": [],
   "source": [
    "from ipywidgets import VBox, HBox, IntSlider, FloatSlider, Dropdown, Text, ColorPicker\n",
    "import ipyspin"
   ]
  },
  {
   "cell_type": "code",
   "execution_count": null,
   "metadata": {},
   "outputs": [],
   "source": [
    "s = ipyspin.Spinner()\n",
    "s.layout.height = '500px'\n",
    "s.layout.width = '500px'"
   ]
  },
  {
   "cell_type": "code",
   "execution_count": null,
   "metadata": {},
   "outputs": [],
   "source": [
    "def on_lines_change(change):\n",
    "    s.lines = change['new']\n",
    "lines_slider = IntSlider(description='Lines', value=13, min=5, max=20)\n",
    "lines_slider.observe(on_lines_change, names='value')\n",
    "                     \n",
    "def on_length_change(change):\n",
    "    s.length = change['new']\n",
    "length_slider = FloatSlider(description='Length', value=38, min=0, max=80)\n",
    "length_slider.observe(on_length_change, names='value')\n",
    "\n",
    "def on_width_change(change):\n",
    "    s.width = change['new']\n",
    "width_slider = FloatSlider(description='Width', value=17, min=2, max=52)\n",
    "width_slider.observe(on_width_change, names='value')\n",
    "\n",
    "def on_radius_change(change):\n",
    "    s.radius = change['new']\n",
    "radius_slider = FloatSlider(description='Radius', value=45, min=0, max=84)\n",
    "radius_slider.observe(on_radius_change, names='value')\n",
    "\n",
    "def on_scale_change(change):\n",
    "    s.scale = change['new']\n",
    "scale_slider = FloatSlider(description='Scale', value=1, min=0.05, max=4, step=0.05)\n",
    "scale_slider.observe(on_scale_change, names='value')\n",
    "\n",
    "def on_corners_change(change):\n",
    "    s.corners = change['new']\n",
    "corners_slider = FloatSlider(description='Corners', value=1, min=0, max=1, step=0.1)\n",
    "corners_slider.observe(on_corners_change, names='value')\n",
    "\n",
    "def on_speed_change(change):\n",
    "    s.speed = change['new']\n",
    "speed_slider = FloatSlider(description='Speed', value=1, min=0.5, max=2.2)\n",
    "speed_slider.observe(on_speed_change, names='value')\n",
    "\n",
    "def on_rotate_change(change):\n",
    "    s.rotate = change['new']\n",
    "rotate_slider = FloatSlider(description='Rotate', value=0, min=0, max=90)\n",
    "rotate_slider.observe(on_rotate_change, names='value')\n",
    "\n",
    "def on_animation_change(change):\n",
    "    s.animation = change['new']\n",
    "animation_dropdown = Dropdown(description='Animation',\n",
    "                              options=['spinner-line-fade-default',\n",
    "                                       'spinner-line-fade-quick',\n",
    "                                       'spinner-line-fade-more',\n",
    "                                       'spinner-line-shrink'],\n",
    "                              value='spinner-line-fade-quick'\n",
    ")\n",
    "animation_dropdown.observe(on_animation_change, names='value')\n",
    "\n",
    "def on_direction_change(change):\n",
    "    s.direction = change['new']\n",
    "direction_dropdown = Dropdown(description='Direction',\n",
    "                              options=[('Clockwise', 1),\n",
    "                                       ('Counterclockwise', -1)],\n",
    "                              value=1\n",
    ")\n",
    "direction_dropdown.observe(on_direction_change, names='value')\n",
    "\n",
    "def on_color_change(change):\n",
    "    s.color = change['new']\n",
    "color_picker = ColorPicker(description='Color')\n",
    "color_picker.observe(on_color_change, names='value')\n",
    "\n",
    "def on_fade_color_change(change):\n",
    "    s.fade_color = change['new']\n",
    "fade_color_text = Text(description='Fade color', value='transparent')\n",
    "fade_color_text.observe(on_fade_color_change, names='value')\n",
    "\n",
    "def on_top_change(change):\n",
    "    s.top = str(change['new']) + '%'\n",
    "top_slider = FloatSlider(description='↕', value=50, min=0, max=100)\n",
    "top_slider.observe(on_top_change, names='value')\n",
    "\n",
    "def on_left_change(change):\n",
    "    s.left = str(change['new']) + '%'\n",
    "left_slider = FloatSlider(description='↔', value=50, min=0, max=100)\n",
    "left_slider.observe(on_left_change, names='value')\n",
    "\n",
    "def on_shadow_change(change):\n",
    "    s.shadow = change['new']\n",
    "shadow_text = Text(description='Shadow', value='0 0 1px transparent')\n",
    "shadow_text.observe(on_shadow_change, names='value')"
   ]
  },
  {
   "cell_type": "code",
   "execution_count": null,
   "metadata": {},
   "outputs": [],
   "source": [
    "HBox([s, VBox([\n",
    "    lines_slider,\n",
    "    length_slider,\n",
    "    width_slider,\n",
    "    radius_slider,\n",
    "    scale_slider,\n",
    "    corners_slider,\n",
    "    speed_slider,\n",
    "    rotate_slider,\n",
    "    animation_dropdown,\n",
    "    direction_dropdown,\n",
    "    color_picker,\n",
    "    fade_color_text,\n",
    "    top_slider,\n",
    "    left_slider,\n",
    "    shadow_text\n",
    "])])"
   ]
  },
  {
   "cell_type": "code",
   "execution_count": null,
   "metadata": {},
   "outputs": [],
   "source": [
    "s.stop()"
   ]
  },
  {
   "cell_type": "code",
   "execution_count": null,
   "metadata": {},
   "outputs": [],
   "source": [
    "s.spin()"
   ]
  }
 ],
 "metadata": {
  "kernelspec": {
   "display_name": "Python 3",
   "language": "python",
   "name": "python3"
  },
  "language_info": {
   "codemirror_mode": {
    "name": "ipython",
    "version": 3
   },
   "file_extension": ".py",
   "mimetype": "text/x-python",
   "name": "python",
   "nbconvert_exporter": "python",
   "pygments_lexer": "ipython3",
   "version": "3.8.5"
  }
 },
 "nbformat": 4,
 "nbformat_minor": 2
}
